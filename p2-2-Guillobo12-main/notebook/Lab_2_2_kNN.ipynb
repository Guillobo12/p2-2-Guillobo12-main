{
 "cells": [
  {
   "cell_type": "markdown",
   "metadata": {},
   "source": [
    "# Laboratory practice 2.2: KNN classification\n",
    "\n",
    "Here we will implement our first ML model based on the _very_ popular KNN algorithm. We will use the preprocessed data from the previous practice, `SimData.dat`. The data should be properly cleaned already, and we should have available the two resulting files `train.dat` and `test.dat` with the training and testing data, respectively. Therefore, we will not need to do the preprocessing here, which is why we will (almost) jump to implementing KNN and applying it to the data."
   ]
  },
  {
   "cell_type": "code",
   "execution_count": 8,
   "metadata": {
    "id": "M2DWzwCyFqNr"
   },
   "outputs": [],
   "source": [
    "# Load the modules you'll need later\n",
    "\n",
    "# Plotting libraries\n",
    "import seaborn as sns\n",
    "import matplotlib.pyplot as plt\n",
    "sns.set_theme()\n",
    "\n",
    "# Data management libraries\n",
    "import numpy as np # linear algebra\n",
    "import pandas as pd # data processing, CSV file I/O (e.g. pd.read_csv)\n",
    "\n",
    "# Add Lab_2_2_kNN.py to the path\n",
    "import sys\n",
    "sys.path.append('../src')\n",
    "\n",
    "# Import the functions from the solution\n",
    "from Lab_2_2_kNN_2 import knn, plot_probability_histograms, plot_roc_curve, evaluate_classification_metrics, plot_2Dmodel_predictions, plot_calibration_curve"
   ]
  },
  {
   "cell_type": "markdown",
   "metadata": {
    "id": "jhuWAmScFqNu"
   },
   "source": [
    "## 1. Prepare the Dataset"
   ]
  },
  {
   "cell_type": "markdown",
   "metadata": {
    "id": "DyWEeIfqnbcB"
   },
   "source": [
    "This part of the process you already did in the previous practice! You can reuse everything here. Moreover, if you saved the train/test split into `train.dat` and `test.dat`, you can use them here!"
   ]
  },
  {
   "cell_type": "code",
   "execution_count": 9,
   "metadata": {
    "id": "j-ue2KRNFqNv"
   },
   "outputs": [],
   "source": [
    "# Load the train and test data you generated (use the name \"train_df\" and \"test_df\")\n",
    "train_df = pd.read_csv(\"train.dat\",sep = \"\\t\")\n",
    "test_df = pd.read_csv(\"test.dat\",sep = \"\\t\")\n",
    "\n",
    "# Convert output variable to factor\n",
    "# TODO\n",
    "train_df[\"Y\"] = train_df[\"Y\"].astype(\"category\") \n",
    "test_df[\"Y\"] = test_df[\"Y\"].astype(\"category\")"
   ]
  },
  {
   "cell_type": "code",
   "execution_count": 10,
   "metadata": {
    "id": "b6F2BtZdFqNx"
   },
   "outputs": [],
   "source": [
    "# Define input and output variables, and store X_train, X_test, y_train and y_test matrices\n",
    "input_vars = ['X1','X2']\n",
    "target_var = 'Y'\n",
    "\n",
    "X_train = train_df[input_vars]\n",
    "y_train = train_df[target_var]\n",
    "X_test = test_df[input_vars]\n",
    "y_test = test_df[target_var]"
   ]
  },
  {
   "cell_type": "markdown",
   "metadata": {
    "id": "uuc81ZpdFqNy"
   },
   "source": [
    "## 2. Training of Machine Learning models"
   ]
  },
  {
   "cell_type": "markdown",
   "metadata": {
    "id": "KocL1hskFqNy"
   },
   "source": [
    "#### Minkowski Distance"
   ]
  },
  {
   "cell_type": "markdown",
   "metadata": {
    "id": "Qb3UpDNzFqNz"
   },
   "source": [
    "<center><img alt=\"minkowski distance\" src=\"data:image/png;base64,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\"/></center>"
   ]
  },
  {
   "cell_type": "markdown",
   "metadata": {
    "id": "a0YN0JfSFqNz"
   },
   "source": [
    "#### k-Nearest Neighbors Model"
   ]
  },
  {
   "cell_type": "markdown",
   "metadata": {
    "id": "GnJOxSfHFqNz"
   },
   "source": [
    "- [K-Nearest Neighbours](https://scikit-learn.org/stable/modules/neighbors.html#classification)\n",
    "- [KNeighborsClassifier](https://scikit-learn.org/stable/modules/generated/sklearn.neighbors.KNeighborsClassifier.html)"
   ]
  },
  {
   "cell_type": "code",
   "execution_count": 11,
   "metadata": {
    "id": "JmB6PazkFqN0"
   },
   "outputs": [
    {
     "name": "stdout",
     "output_type": "stream",
     "text": [
      "kNN model (k=None, p=None)\n"
     ]
    }
   ],
   "source": [
    "# Inputs of the model. Change accordingly to perform feature selection\n",
    "INPUTS_KNN = input_vars\n",
    "\n",
    "# Define hyperparameters of the model\n",
    "k = 31 # Number of nearest neighbors\n",
    "p = 2 # Order of Minkowski distance (what distance is this?)\n",
    "\n",
    "# Create a model object\n",
    "knn_fit = knn()\n",
    "print(knn_fit)"
   ]
  },
  {
   "cell_type": "code",
   "execution_count": 12,
   "metadata": {
    "id": "q0H0q2ZEFqN0"
   },
   "outputs": [
    {
     "name": "stdout",
     "output_type": "stream",
     "text": [
      "kNN Trained\n",
      "kNN model (k=31, p=2)\n"
     ]
    }
   ],
   "source": [
    "# Train model\n",
    "knn_fit.fit(X_train[INPUTS_KNN].values, y_train.values, k=k, p=p)\n",
    "print(\"kNN Trained\")\n",
    "print(knn_fit)"
   ]
  },
  {
   "cell_type": "code",
   "execution_count": 13,
   "metadata": {},
   "outputs": [
    {
     "ename": "ValueError",
     "evalue": "maximum supported dimension for an ndarray is 32, found 796",
     "output_type": "error",
     "traceback": [
      "\u001b[1;31m---------------------------------------------------------------------------\u001b[0m",
      "\u001b[1;31mValueError\u001b[0m                                Traceback (most recent call last)",
      "Cell \u001b[1;32mIn[13], line 1\u001b[0m\n\u001b[1;32m----> 1\u001b[0m model_predictions \u001b[38;5;241m=\u001b[39m \u001b[43mplot_2Dmodel_predictions\u001b[49m\u001b[43m(\u001b[49m\u001b[43mX_train\u001b[49m\u001b[43m[\u001b[49m\u001b[43mINPUTS_KNN\u001b[49m\u001b[43m]\u001b[49m\u001b[38;5;241;43m.\u001b[39;49m\u001b[43mvalues\u001b[49m\u001b[43m,\u001b[49m\u001b[43m \u001b[49m\u001b[43my_train\u001b[49m\u001b[38;5;241;43m.\u001b[39;49m\u001b[43mvalues\u001b[49m\u001b[43m,\u001b[49m\u001b[43m \u001b[49m\u001b[43mknn_fit\u001b[49m\u001b[43m,\u001b[49m\u001b[43m \u001b[49m\u001b[38;5;241;43m50\u001b[39;49m\u001b[43m)\u001b[49m\n",
      "File \u001b[1;32mc:\\Users\\Guillermo\\Practicas_universidad\\Machine-learning\\p2-2-Guillobo12-main\\p2-2-Guillobo12-main\\notebook\\Lab_2_2_kNN_2.py:204\u001b[0m, in \u001b[0;36mplot_2Dmodel_predictions\u001b[1;34m(X, y, model, grid_points_n)\u001b[0m\n\u001b[0;32m    201\u001b[0m num_to_label \u001b[38;5;241m=\u001b[39m {i: label \u001b[38;5;28;01mfor\u001b[39;00m i, label \u001b[38;5;129;01min\u001b[39;00m \u001b[38;5;28menumerate\u001b[39m(unique_labels)}\n\u001b[0;32m    203\u001b[0m \u001b[38;5;66;03m# Predict on input data\u001b[39;00m\n\u001b[1;32m--> 204\u001b[0m preds \u001b[38;5;241m=\u001b[39m \u001b[43mmodel\u001b[49m\u001b[38;5;241;43m.\u001b[39;49m\u001b[43mpredict\u001b[49m\u001b[43m(\u001b[49m\u001b[43mX\u001b[49m\u001b[43m)\u001b[49m\n\u001b[0;32m    206\u001b[0m \u001b[38;5;66;03m# Determine TP, FP, FN, TN\u001b[39;00m\n\u001b[0;32m    207\u001b[0m tp \u001b[38;5;241m=\u001b[39m (y \u001b[38;5;241m==\u001b[39m unique_labels[\u001b[38;5;241m1\u001b[39m]) \u001b[38;5;241m&\u001b[39m (preds \u001b[38;5;241m==\u001b[39m unique_labels[\u001b[38;5;241m1\u001b[39m])\n",
      "File \u001b[1;32mc:\\Users\\Guillermo\\Practicas_universidad\\Machine-learning\\p2-2-Guillobo12-main\\p2-2-Guillobo12-main\\notebook\\Lab_2_2_kNN_2.py:79\u001b[0m, in \u001b[0;36mknn.predict\u001b[1;34m(self, X)\u001b[0m\n\u001b[0;32m     77\u001b[0m etiqueta_moda \u001b[38;5;241m=\u001b[39m []\n\u001b[0;32m     78\u001b[0m \u001b[38;5;28;01mfor\u001b[39;00m entidad \u001b[38;5;129;01min\u001b[39;00m X:\n\u001b[1;32m---> 79\u001b[0m     distancias \u001b[38;5;241m=\u001b[39m \u001b[38;5;28;43mself\u001b[39;49m\u001b[38;5;241;43m.\u001b[39;49m\u001b[43mcompute_distances\u001b[49m\u001b[43m(\u001b[49m\u001b[43mentidad\u001b[49m\u001b[43m)\u001b[49m\n\u001b[0;32m     80\u001b[0m     indices_knn \u001b[38;5;241m=\u001b[39m \u001b[38;5;28mself\u001b[39m\u001b[38;5;241m.\u001b[39mget_k_nearest_neighbors(distancias)\n\u001b[0;32m     81\u001b[0m     etiquetas_knn \u001b[38;5;241m=\u001b[39m []\n",
      "File \u001b[1;32mc:\\Users\\Guillermo\\Practicas_universidad\\Machine-learning\\p2-2-Guillobo12-main\\p2-2-Guillobo12-main\\notebook\\Lab_2_2_kNN_2.py:130\u001b[0m, in \u001b[0;36mknn.compute_distances\u001b[1;34m(self, point)\u001b[0m\n\u001b[0;32m    128\u001b[0m     distancia \u001b[38;5;241m=\u001b[39m minkowski_distance(point,\u001b[38;5;28mself\u001b[39m\u001b[38;5;241m.\u001b[39mx_train[i])\n\u001b[0;32m    129\u001b[0m     distancias\u001b[38;5;241m.\u001b[39mappend(distancia)\n\u001b[1;32m--> 130\u001b[0m distancias \u001b[38;5;241m=\u001b[39m \u001b[43mnp\u001b[49m\u001b[38;5;241;43m.\u001b[39;49m\u001b[43mndarray\u001b[49m\u001b[43m(\u001b[49m\u001b[43mdistancias\u001b[49m\u001b[43m)\u001b[49m\n\u001b[0;32m    131\u001b[0m \u001b[38;5;28;01mreturn\u001b[39;00m distancias\n",
      "\u001b[1;31mValueError\u001b[0m: maximum supported dimension for an ndarray is 32, found 796"
     ]
    }
   ],
   "source": [
    "model_predictions = plot_2Dmodel_predictions(X_train[INPUTS_KNN].values, y_train.values, knn_fit, 50)"
   ]
  },
  {
   "cell_type": "code",
   "execution_count": null,
   "metadata": {
    "id": "a-wXpaciFqN1"
   },
   "outputs": [
    {
     "data": {
      "text/plain": [
       "{'Confusion Matrix': [796, 0, 0, 0],\n",
       " 'Accuracy': 1.0,\n",
       " 'Precision': 0,\n",
       " 'Recall': 0,\n",
       " 'Specificity': 1.0,\n",
       " 'F1 Score': 0}"
      ]
     },
     "execution_count": 37,
     "metadata": {},
     "output_type": "execute_result"
    }
   ],
   "source": [
    "# Obtain train performance metrics\n",
    "\n",
    "\n",
    "evaluate_classification_metrics(y_train, knn_fit.predict(X_train[INPUTS_KNN].values), 'YES')"
   ]
  },
  {
   "cell_type": "code",
   "execution_count": null,
   "metadata": {
    "id": "0dR9t5dTFqN1"
   },
   "outputs": [
    {
     "data": {
      "text/plain": [
       "{'Confusion Matrix': [200, 0, 0, 0],\n",
       " 'Accuracy': 1.0,\n",
       " 'Precision': 0,\n",
       " 'Recall': 0,\n",
       " 'Specificity': 1.0,\n",
       " 'F1 Score': 0}"
      ]
     },
     "execution_count": 38,
     "metadata": {},
     "output_type": "execute_result"
    }
   ],
   "source": [
    "# Obtain test performance metrics\n",
    "evaluate_classification_metrics(y_test, knn_fit.predict(X_test[INPUTS_KNN].values),  'YES')"
   ]
  },
  {
   "cell_type": "code",
   "execution_count": 16,
   "metadata": {
    "id": "596SA2Y3hLpg"
   },
   "outputs": [
    {
     "name": "stdout",
     "output_type": "stream",
     "text": [
      "[[-0.60126619  0.07329572]\n",
      " [-0.09342946 -0.93645773]\n",
      " [ 1.26112759 -0.62367871]\n",
      " ...\n",
      " [-1.21834946  0.19325951]\n",
      " [-0.82968851  1.40390055]\n",
      " [-0.84777458  0.53560444]]\n"
     ]
    },
    {
     "ename": "ValueError",
     "evalue": "maximum supported dimension for an ndarray is 32, found 796",
     "output_type": "error",
     "traceback": [
      "\u001b[1;31m---------------------------------------------------------------------------\u001b[0m",
      "\u001b[1;31mValueError\u001b[0m                                Traceback (most recent call last)",
      "Cell \u001b[1;32mIn[16], line 2\u001b[0m\n\u001b[0;32m      1\u001b[0m \u001b[38;5;28mprint\u001b[39m(X_train\u001b[38;5;241m.\u001b[39mvalues)\n\u001b[1;32m----> 2\u001b[0m probs \u001b[38;5;241m=\u001b[39m \u001b[43mknn_fit\u001b[49m\u001b[38;5;241;43m.\u001b[39;49m\u001b[43mpredict_proba\u001b[49m\u001b[43m(\u001b[49m\u001b[43mX_train\u001b[49m\u001b[38;5;241;43m.\u001b[39;49m\u001b[43mvalues\u001b[49m\u001b[43m)\u001b[49m\n",
      "File \u001b[1;32mc:\\Users\\Guillermo\\Practicas_universidad\\Machine-learning\\p2-2-Guillobo12-main\\p2-2-Guillobo12-main\\notebook\\Lab_2_2_kNN_2.py:104\u001b[0m, in \u001b[0;36mknn.predict_proba\u001b[1;34m(self, X)\u001b[0m\n\u001b[0;32m    102\u001b[0m respuesta \u001b[38;5;241m=\u001b[39m []\n\u001b[0;32m    103\u001b[0m \u001b[38;5;28;01mfor\u001b[39;00m entidad \u001b[38;5;129;01min\u001b[39;00m X:\n\u001b[1;32m--> 104\u001b[0m     distances_list \u001b[38;5;241m=\u001b[39m \u001b[38;5;28;43mself\u001b[39;49m\u001b[38;5;241;43m.\u001b[39;49m\u001b[43mcompute_distances\u001b[49m\u001b[43m(\u001b[49m\u001b[43mentidad\u001b[49m\u001b[43m)\u001b[49m\n\u001b[0;32m    105\u001b[0m     indices_knn \u001b[38;5;241m=\u001b[39m \u001b[38;5;28mself\u001b[39m\u001b[38;5;241m.\u001b[39mget_k_nearest_neighbors(distances_list)\n\u001b[0;32m    106\u001b[0m     knn_class_dict \u001b[38;5;241m=\u001b[39m {}\n",
      "File \u001b[1;32mc:\\Users\\Guillermo\\Practicas_universidad\\Machine-learning\\p2-2-Guillobo12-main\\p2-2-Guillobo12-main\\notebook\\Lab_2_2_kNN_2.py:130\u001b[0m, in \u001b[0;36mknn.compute_distances\u001b[1;34m(self, point)\u001b[0m\n\u001b[0;32m    128\u001b[0m     distancia \u001b[38;5;241m=\u001b[39m minkowski_distance(point,\u001b[38;5;28mself\u001b[39m\u001b[38;5;241m.\u001b[39mx_train[i])\n\u001b[0;32m    129\u001b[0m     distancias\u001b[38;5;241m.\u001b[39mappend(distancia)\n\u001b[1;32m--> 130\u001b[0m distancias \u001b[38;5;241m=\u001b[39m \u001b[43mnp\u001b[49m\u001b[38;5;241;43m.\u001b[39;49m\u001b[43mndarray\u001b[49m\u001b[43m(\u001b[49m\u001b[43mdistancias\u001b[49m\u001b[43m)\u001b[49m\n\u001b[0;32m    131\u001b[0m \u001b[38;5;28;01mreturn\u001b[39;00m distancias\n",
      "\u001b[1;31mValueError\u001b[0m: maximum supported dimension for an ndarray is 32, found 796"
     ]
    }
   ],
   "source": [
    "print(X_train.values)\n",
    "probs = knn_fit.predict_proba(X_train.values)"
   ]
  },
  {
   "cell_type": "code",
   "execution_count": null,
   "metadata": {},
   "outputs": [
    {
     "ename": "NameError",
     "evalue": "name 'probs' is not defined",
     "output_type": "error",
     "traceback": [
      "\u001b[1;31m---------------------------------------------------------------------------\u001b[0m",
      "\u001b[1;31mNameError\u001b[0m                                 Traceback (most recent call last)",
      "Cell \u001b[1;32mIn[40], line 1\u001b[0m\n\u001b[1;32m----> 1\u001b[0m calibration_curve \u001b[38;5;241m=\u001b[39m plot_calibration_curve(y_train\u001b[38;5;241m.\u001b[39mvalues, \u001b[43mprobs\u001b[49m[:,\u001b[38;5;241m1\u001b[39m], \u001b[38;5;124m'\u001b[39m\u001b[38;5;124mYES\u001b[39m\u001b[38;5;124m'\u001b[39m)\n",
      "\u001b[1;31mNameError\u001b[0m: name 'probs' is not defined"
     ]
    }
   ],
   "source": [
    "calibration_curve = plot_calibration_curve(y_train.values, probs[:,1], 'YES')"
   ]
  },
  {
   "cell_type": "code",
   "execution_count": null,
   "metadata": {},
   "outputs": [],
   "source": [
    "probability_histograms = plot_probability_histograms(y_train.values, probs[:,1], 'YES')"
   ]
  },
  {
   "cell_type": "code",
   "execution_count": null,
   "metadata": {},
   "outputs": [],
   "source": [
    "roc_curve = plot_roc_curve(y_train.values, probs[:,1], 'YES')"
   ]
  }
 ],
 "metadata": {
  "colab": {
   "provenance": []
  },
  "kernelspec": {
   "display_name": "Proyecto",
   "language": "python",
   "name": "python3"
  },
  "language_info": {
   "codemirror_mode": {
    "name": "ipython",
    "version": 3
   },
   "file_extension": ".py",
   "mimetype": "text/x-python",
   "name": "python",
   "nbconvert_exporter": "python",
   "pygments_lexer": "ipython3",
   "version": "3.11.5"
  }
 },
 "nbformat": 4,
 "nbformat_minor": 0
}
